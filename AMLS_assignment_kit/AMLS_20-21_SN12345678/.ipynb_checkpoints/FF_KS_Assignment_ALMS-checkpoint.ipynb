{
 "cells": [
  {
   "cell_type": "markdown",
   "metadata": {},
   "source": [
    "# AMLS_assignment20_21/ SN:14066539"
   ]
  },
  {
   "cell_type": "markdown",
   "metadata": {},
   "source": [
    "=============================================================================================="
   ]
  },
  {
   "cell_type": "markdown",
   "metadata": {},
   "source": [
    "## Importin required libraries"
   ]
  },
  {
   "cell_type": "code",
   "execution_count": 1,
   "metadata": {},
   "outputs": [],
   "source": [
    "import sys"
   ]
  },
  {
   "cell_type": "code",
   "execution_count": 2,
   "metadata": {},
   "outputs": [
    {
     "data": {
      "text/plain": [
       "['C:\\\\Users\\\\eq\\\\Documents\\\\UCL\\\\AMLS_assignment20_21\\\\AMLS_assignment20_21\\\\AMLS_assignment_kit\\\\AMLS_20-21_SN12345678',\n",
       " 'C:\\\\Users\\\\eq\\\\anaconda3\\\\python38.zip',\n",
       " 'C:\\\\Users\\\\eq\\\\anaconda3\\\\DLLs',\n",
       " 'C:\\\\Users\\\\eq\\\\anaconda3\\\\lib',\n",
       " 'C:\\\\Users\\\\eq\\\\anaconda3',\n",
       " '',\n",
       " 'C:\\\\Users\\\\eq\\\\anaconda3\\\\lib\\\\site-packages',\n",
       " 'C:\\\\Users\\\\eq\\\\anaconda3\\\\lib\\\\site-packages\\\\win32',\n",
       " 'C:\\\\Users\\\\eq\\\\anaconda3\\\\lib\\\\site-packages\\\\win32\\\\lib',\n",
       " 'C:\\\\Users\\\\eq\\\\anaconda3\\\\lib\\\\site-packages\\\\Pythonwin',\n",
       " 'C:\\\\Users\\\\eq\\\\anaconda3\\\\lib\\\\site-packages\\\\IPython\\\\extensions',\n",
       " 'C:\\\\Users\\\\eq\\\\.ipython']"
      ]
     },
     "execution_count": 2,
     "metadata": {},
     "output_type": "execute_result"
    }
   ],
   "source": [
    "sys.path"
   ]
  },
  {
   "cell_type": "code",
   "execution_count": 1,
   "metadata": {},
   "outputs": [
    {
     "name": "stderr",
     "output_type": "stream",
     "text": [
      "Using TensorFlow backend.\n"
     ]
    }
   ],
   "source": [
    "import tensorflow as tf\n",
    "import tensorflow.compat.v1 as v1\n",
    "import numpy as np\n",
    "import os\n",
    "from keras.preprocessing import image\n",
    "import scipy.io\n",
    "import pandas as pd\n",
    "from matplotlib import pyplot\n",
    "import matplotlib as mpl\n",
    "import matplotlib.pyplot as plt\n",
    "import MA1\n",
    "import MB1\n",
    "import MA2\n",
    "import MB2\n",
    "from sklearn.model_selection import train_test_split\n",
    "\n",
    "%load_ext autoreload\n",
    "%autoreload 2"
   ]
  },
  {
   "cell_type": "markdown",
   "metadata": {},
   "source": [
    "=============================================================================================="
   ]
  },
  {
   "cell_type": "markdown",
   "metadata": {},
   "source": [
    "## Mapping of directories"
   ]
  },
  {
   "cell_type": "code",
   "execution_count": 2,
   "metadata": {},
   "outputs": [],
   "source": [
    "global data_dir, image_dir, label_dir, asset_dir\n",
    "\n",
    "data_dir = ('Datasets')\n",
    "image_dir_celeba = os.path.join(data_dir, 'celeba', 'img')\n",
    "image_dir_cartoonset = os.path.join(data_dir,'cartoon_set', 'img')\n",
    "asset_dir_celeba = os.listdir(os.path.join(os.getcwd(), 'Datasets/celeba/img'))\n",
    "asset_dir_cartoonset = os.listdir(os.path.join(os.getcwd(), 'Datasets/cartoon_set/img'))\n",
    "label_dir_celeba = os.path.join(data_dir,'celeba', 'labels.csv')\n",
    "label_dir_cartoonset = os.path.join(data_dir, 'cartoon_set', 'labels.csv')"
   ]
  },
  {
   "cell_type": "code",
   "execution_count": 3,
   "metadata": {},
   "outputs": [],
   "source": [
    "# Setting directories global for use across multiple models\n",
    "global data_dir, image_dir_celeba, image_dir_cartoonset, asset_dir_celeba, labels_dir_celeba, labels_dir_cartoonset"
   ]
  },
  {
   "cell_type": "markdown",
   "metadata": {},
   "source": [
    "=============================================================================================="
   ]
  },
  {
   "cell_type": "markdown",
   "metadata": {},
   "source": [
    "# MA1 k-Means & MLP model for gender recognition : celeba dataset"
   ]
  },
  {
   "cell_type": "raw",
   "metadata": {},
   "source": [
    "This model has used k-Means clustering algorithm followed by MultiLayer Perceptron model to train and predict the Gender labels of the Celeba dataset. I chose to use kMeans and generate features, as I stumbled upon multiple technical challenges importing dlib used in Week 7 of the lectures. Following a literature review I was convinced of k-Means algorithm being a good substitute for the features extraction."
   ]
  },
  {
   "cell_type": "markdown",
   "metadata": {},
   "source": [
    "1000 images from celeba dataset was initially conversted to train MultiLayer Perceptron model. "
   ]
  },
  {
   "cell_type": "markdown",
   "metadata": {},
   "source": [
    "### 1. Running k_Means function in order to get centroids coordinates with relevant arguments"
   ]
  },
  {
   "cell_type": "code",
   "execution_count": 5,
   "metadata": {
    "scrolled": true
   },
   "outputs": [
    {
     "name": "stdout",
     "output_type": "stream",
     "text": [
      "Running ..\n",
      "Running ..\n",
      "Running ..\n",
      "Running ..\n",
      "Running ..\n",
      "Running ..\n",
      "Running ..\n",
      "Running ..\n",
      "Running ..\n"
     ]
    },
    {
     "name": "stderr",
     "output_type": "stream",
     "text": [
      "/home/ucqbks1/anaconda3/lib/python3.7/site-packages/numpy/core/fromnumeric.py:3373: RuntimeWarning: Mean of empty slice.\n",
      "  out=out, **kwargs)\n",
      "/home/ucqbks1/anaconda3/lib/python3.7/site-packages/numpy/core/_methods.py:163: RuntimeWarning: invalid value encountered in true_divide\n",
      "  ret, rcount, out=ret, casting='unsafe', subok=False)\n"
     ]
    },
    {
     "name": "stdout",
     "output_type": "stream",
     "text": [
      "Running ..\n",
      "Running ..\n",
      "Running ..\n",
      "Running ..\n",
      "Running ..\n",
      "Running ..\n",
      "Running ..\n",
      "Running ..\n",
      "Running ..\n",
      "Running ..\n",
      "Running ..\n",
      "Running ..\n",
      "Running ..\n",
      "Running ..\n",
      "Running ..\n",
      "Running ..\n",
      "Running ..\n",
      "Running ..\n",
      "Running ..\n",
      "Running ..\n",
      "Running ..\n",
      "Running ..\n",
      "Running ..\n",
      "Running ..\n",
      "Running ..\n",
      "Running ..\n",
      "Running ..\n",
      "Running ..\n",
      "Running ..\n",
      "Running ..\n",
      "Running ..\n",
      "Running ..\n",
      "Running ..\n",
      "Running ..\n",
      "Running ..\n",
      "Running ..\n",
      "Running ..\n",
      "Running ..\n",
      "Running ..\n",
      "Running ..\n",
      "Running ..\n",
      "Running ..\n",
      "Running ..\n",
      "Running ..\n",
      "Running ..\n",
      "Running ..\n",
      "Running ..\n",
      "Running ..\n",
      "Running ..\n",
      "Running ..\n",
      "Running ..\n",
      "Running ..\n",
      "Running ..\n",
      "Running ..\n",
      "Running ..\n",
      "Running ..\n",
      "Running ..\n",
      "Running ..\n",
      "Running ..\n",
      "Running ..\n",
      "Running ..\n",
      "Running ..\n",
      "Running ..\n",
      "Running ..\n",
      "Running ..\n",
      "Running ..\n",
      "Running ..\n",
      "Running ..\n",
      "Running ..\n",
      "Running ..\n",
      "Running ..\n",
      "Running ..\n",
      "Running ..\n",
      "Running ..\n",
      "Running ..\n",
      "Running ..\n",
      "Running ..\n",
      "Running ..\n",
      "Running ..\n",
      "Running ..\n",
      "Running ..\n",
      "Running ..\n",
      "Running ..\n",
      "Running ..\n",
      "Running ..\n",
      "Running ..\n",
      "Running ..\n",
      "Running ..\n",
      "Running ..\n",
      "Running ..\n",
      "Running ..\n"
     ]
    }
   ],
   "source": [
    "# specify criteria\n",
    "max_iters = 10         # Number of iterations, ideal to keep it <10 \n",
    "samples = 100          # It is recommended to keep this number small (in the range of 10 - 30), as this calculation is computationally expensive process.\n",
    "K = 20                 # Number of centroids. Not all the images high dimension data available to slice, hence as per my observation, a number between 10 and 50 is ideal for this dataset.\n",
    "target_size = (79, 59)  # multiply this three times to make it actual size.\n",
    "\n",
    "image_dir_celeba = os.path.join(data_dir, 'celeba', 'img')\n",
    "asset_dir_celeba = os.listdir(os.path.join(os.getcwd(), 'Datasets/celeba/img'))\n",
    "\n",
    "# Get the centroids of the sample images --------------------\n",
    "centroid_array, idx_array = MA1.get_centroids_celebaMA1(asset_dir_celeba, image_dir_celeba, samples, K, max_iters, target_size)"
   ]
  },
  {
   "cell_type": "markdown",
   "metadata": {},
   "source": [
    "###### Please ignore the alert of empty slice. It seems to me that the dataset was already optimized, hence the error indicates lack of centroids in different dimensions."
   ]
  },
  {
   "cell_type": "markdown",
   "metadata": {},
   "source": [
    "#### 1.1 Shapping and loading data for MLP"
   ]
  },
  {
   "cell_type": "code",
   "execution_count": 6,
   "metadata": {
    "scrolled": true
   },
   "outputs": [
    {
     "name": "stdout",
     "output_type": "stream",
     "text": [
      "Shape of the gender_labels : (100, 2)\n",
      "Shape of features:  (100, 20, 3)\n",
      "Shape of X_train: (80, 79, 59, 3)\n",
      "Shape of X_test: (20, 79, 59, 3)\n",
      "Shape of Y_train: (80, 2)\n",
      "Shape of Y_test: (20, 2)\n"
     ]
    }
   ],
   "source": [
    "# Getting shapped data for Model A1:\n",
    "\n",
    "number_labels = len(set(pd.read_csv(label_dir_celeba, delimiter= '\\t' )['gender']))\n",
    "\n",
    "X_train, X_test, Y_train, Y_test, features = MA1.get_data_MA1(number_labels)"
   ]
  },
  {
   "cell_type": "markdown",
   "metadata": {},
   "source": [
    "### 2. Setting up MLP with effective parameters"
   ]
  },
  {
   "cell_type": "code",
   "execution_count": 7,
   "metadata": {},
   "outputs": [
    {
     "name": "stdout",
     "output_type": "stream",
     "text": [
      "WARNING:tensorflow:From <ipython-input-7-d50cd096c90d>:14: softmax_cross_entropy_with_logits (from tensorflow.python.ops.nn_ops) is deprecated and will be removed in a future version.\n",
      "Instructions for updating:\n",
      "\n",
      "Future major versions of TensorFlow will allow gradients to flow\n",
      "into the labels input on backprop by default.\n",
      "\n",
      "See `tf.nn.softmax_cross_entropy_with_logits_v2`.\n",
      "\n"
     ]
    }
   ],
   "source": [
    "# Number of hidden layers\n",
    "n_hidden_1 = 2048 # can change this number to optimize results\n",
    "n_hidden_2 = 2048 # can change this number to optimize results\n",
    "\n",
    "# Setting up learning rates and number of epochs for start\n",
    "learning_rate = 1e-5\n",
    "training_epochs = 500\n",
    "display_accuracy_step = 10\n",
    "\n",
    "weights, X, Y, biases, input_array = MA1.initialize_parameters(X_train, Y_train, n_hidden_1, n_hidden_2)\n",
    "\n",
    "logits = MA1.multilayer_perceptron(weights, biases, input_array)\n",
    "\n",
    "loss_op = tf.reduce_mean(tf.nn.softmax_cross_entropy_with_logits(logits = logits, labels = Y))\n",
    "\n",
    "optimizer = v1.train.AdamOptimizer(learning_rate).minimize(loss_op)"
   ]
  },
  {
   "cell_type": "markdown",
   "metadata": {},
   "source": [
    "#### 2.1  Running MLP model"
   ]
  },
  {
   "cell_type": "code",
   "execution_count": 8,
   "metadata": {},
   "outputs": [
    {
     "name": "stdout",
     "output_type": "stream",
     "text": [
      "Train Accuracy: 1.0\n",
      "Test Accuracy: 1.0\n"
     ]
    },
    {
     "data": {
      "image/png": "[encoded data removed]",
      "text/plain": [
       "<Figure size 432x288 with 1 Axes>"
      ]
     },
     "metadata": {
      "needs_background": "light"
     },
     "output_type": "display_data"
    },
    {
     "name": "stdout",
     "output_type": "stream",
     "text": [
      " .. Model Finished ..\n"
     ]
    }
   ],
   "source": [
    "costs = []\n",
    "\n",
    "init_op = v1.global_variables_initializer() # initializing global parameter\n",
    "\n",
    "with v1.Session() as sess:\n",
    "\n",
    "    # run graph weights/biases initialization op\n",
    "    sess.run(init_op)\n",
    "\n",
    "    for epoch in range(training_epochs):\n",
    "\n",
    "        # running cost function (backprop)\n",
    "        _, cost = sess.run([optimizer, loss_op], feed_dict={X: X_train, Y: Y_train})\n",
    "        costs.append(cost)\n",
    "\n",
    "        # Plotting results\n",
    "        \n",
    "        if epoch % display_accuracy_step == 0:\n",
    "            predict = tf.nn.softmax(logits)  # Softmax\n",
    "            correct_prediction = tf.equal(tf.argmax(predict, 1), tf.argmax(Y, 1))\n",
    "            # on using argmax to predict accuracy on axis = 1\n",
    "            # calculate training accuracy\n",
    "            accuracy = tf.reduce_mean(tf.cast(correct_prediction, \"float\"))\n",
    "            train_accuracy = accuracy.eval({X: X_train, Y: Y_train})\n",
    "            test_accuracy = accuracy.eval({X: X_test, Y: Y_test})\n",
    "\n",
    "    # Plotting results\n",
    "    \n",
    "    print(\"Train Accuracy:\", train_accuracy)\n",
    "    print(\"Test Accuracy:\", test_accuracy)\n",
    "    plt.plot(np.squeeze(costs))\n",
    "    plt.ylabel('cost')\n",
    "    plt.xlabel('iterations (per tens)')\n",
    "    plt.title(\"Learning rate =\" + str(learning_rate))\n",
    "    plt.show()\n",
    "    \n",
    "    print (\" .. Model Finished ..\")"
   ]
  },
  {
   "cell_type": "code",
   "execution_count": 9,
   "metadata": {},
   "outputs": [
    {
     "data": {
      "text/plain": [
       "0.5679715"
      ]
     },
     "execution_count": 9,
     "metadata": {},
     "output_type": "execute_result"
    }
   ],
   "source": [
    "costs[0]"
   ]
  },
  {
   "cell_type": "code",
   "execution_count": 10,
   "metadata": {},
   "outputs": [
    {
     "data": {
      "text/plain": [
       "0.0009868604"
      ]
     },
     "execution_count": 10,
     "metadata": {},
     "output_type": "execute_result"
    }
   ],
   "source": [
    "costs[-1]"
   ]
  },
  {
   "cell_type": "markdown",
   "metadata": {},
   "source": [
    "### Demonstration of k-Means compression on an image"
   ]
  },
  {
   "cell_type": "code",
   "execution_count": 11,
   "metadata": {},
   "outputs": [
    {
     "name": "stdout",
     "output_type": "stream",
     "text": [
      "Running ..\n"
     ]
    },
    {
     "data": {
      "image/png": "[encoded data removed]",
      "text/plain": [
       "<Figure size 576x288 with 2 Axes>"
      ]
     },
     "metadata": {
      "needs_background": "light"
     },
     "output_type": "display_data"
    }
   ],
   "source": [
    "# ======= Experiment with these parameters ================\n",
    "K = 24\n",
    "max_iters = 10\n",
    "\n",
    "# Change the file name and path to experiment with different images\n",
    "img_sample = os.path.join(image_dir_celeba, '1.jpg')\n",
    "A = image.img_to_array(image.load_img(img_sample, target_size = None , interpolation='bicubic'))\n",
    "\n",
    "# Divide by 255 so that all values are in the range 0 - 1\n",
    "A = A / 255\n",
    "X = A.reshape(-1, 3)\n",
    "\n",
    "initial_centroids = MA1.kMeansInitCentroids(X, K)\n",
    "centroids, idx = MA1.runkMeans(X, initial_centroids,\n",
    "                                 MA1.findClosestCentroids,\n",
    "                                 MA1.computeCentroids,\n",
    "                                 max_iters)\n",
    "\n",
    "X_recovered = centroids[idx, :].reshape(A.shape)\n",
    "\n",
    "\n",
    "# Display the original image, rescale back by 255\n",
    "fig, ax = pyplot.subplots(1, 2, figsize=(8, 4))\n",
    "ax[0].imshow(A)\n",
    "ax[0].set_title('Original')\n",
    "ax[0].grid(False)\n",
    "\n",
    "# Display compressed image, rescale back by 255\n",
    "ax[1].imshow(X_recovered)\n",
    "ax[1].set_title('Compressed, with %d colors' % K)\n",
    "ax[1].grid(False)"
   ]
  },
  {
   "cell_type": "markdown",
   "metadata": {},
   "source": [
    "=============================================================================================="
   ]
  },
  {
   "cell_type": "markdown",
   "metadata": {},
   "source": [
    "# MA2 Principal Component Analysis (PCA) & MLP for Smiling recognition : celeba dataset"
   ]
  },
  {
   "cell_type": "markdown",
   "metadata": {},
   "source": [
    "This model focuses on analysing Celeba datasets using Principal Component. \n",
    "First stage of implementation of this algorithm is to find the correct set of Principal Component (eigenfaces) that describes the largest variations of the image. This can be changed by increasing K in this model. But due to the computational restrictions, I have used 128."
   ]
  },
  {
   "cell_type": "markdown",
   "metadata": {},
   "source": [
    "This algorithm is implemented in two steps.\n",
    "(i) first we normalize the dataset by subtracting the mean of each features from the matrix.\n",
    "(ii)In this stage we can use normalized values to reduce the dimesnsion fo the dataset. Which allows learning algorithm with a smaller input size.\n",
    "\n",
    "In this Model I have used K = 128. The K here was derived using covariance matrix greater than 1. "
   ]
  },
  {
   "cell_type": "markdown",
   "metadata": {},
   "source": [
    "### 1. PCA compression function"
   ]
  },
  {
   "cell_type": "code",
   "execution_count": 17,
   "metadata": {},
   "outputs": [],
   "source": [
    "def PCA_compression(K, number_labels): # mention of K depending on the image resolution and criteria\n",
    "    \n",
    "    X, Y = MA2.data_to_vector_MA2 (asset_dir_celeba, number_labels)\n",
    "    \n",
    "    X_norm, mu, sigma = MA2.featureNormalize(X)\n",
    "    U, S = MA2.pca(X_norm)\n",
    "    X = MA2.projectData(X_norm, U, K)\n",
    "    \n",
    "    X_train, X_test, Y_train, Y_test = MA2.split_data(X, Y)\n",
    "    print('Shape of compressed X_train:', X_train.shape)\n",
    "    print('Shape of compressed X_test:', X_test.shape)\n",
    "    print('Shape of Y_train:', Y_train.shape)\n",
    "    print('Shape of Y_test:', Y_test.shape)\n",
    "    \n",
    "    return X_train, X_test, Y_train, Y_test, U, S"
   ]
  },
  {
   "cell_type": "markdown",
   "metadata": {},
   "source": [
    "#### 1.1 Compressing and loading compressed image data"
   ]
  },
  {
   "cell_type": "code",
   "execution_count": 22,
   "metadata": {
    "scrolled": true
   },
   "outputs": [
    {
     "name": "stdout",
     "output_type": "stream",
     "text": [
      "Shape of the gender_labels : (5000, 2)\n",
      "Shape of the image dataset : (5000, 13983)\n"
     ]
    },
    {
     "ename": "MemoryError",
     "evalue": "Unable to allocate 1.46 GiB for an array with shape (13983, 13983) and data type float64",
     "output_type": "error",
     "traceback": [
      "\u001b[0;31m---------------------------------------------------------------------------\u001b[0m",
      "\u001b[0;31mMemoryError\u001b[0m                               Traceback (most recent call last)",
      "\u001b[0;32m<ipython-input-22-7e03d812efcf>\u001b[0m in \u001b[0;36m<module>\u001b[0;34m\u001b[0m\n\u001b[1;32m      5\u001b[0m \u001b[0;31m# Current Image size is set to (79, 59), this will need to change as required in file MA2.py (function: data_to_vector_MA2)\u001b[0m\u001b[0;34m\u001b[0m\u001b[0;34m\u001b[0m\u001b[0;34m\u001b[0m\u001b[0m\n\u001b[1;32m      6\u001b[0m \u001b[0;34m\u001b[0m\u001b[0m\n\u001b[0;32m----> 7\u001b[0;31m \u001b[0mX_train\u001b[0m\u001b[0;34m,\u001b[0m \u001b[0mX_test\u001b[0m\u001b[0;34m,\u001b[0m \u001b[0mY_train\u001b[0m\u001b[0;34m,\u001b[0m \u001b[0mY_test\u001b[0m\u001b[0;34m,\u001b[0m \u001b[0mX_val\u001b[0m\u001b[0;34m,\u001b[0m \u001b[0mY_val\u001b[0m\u001b[0;34m,\u001b[0m \u001b[0mU\u001b[0m\u001b[0;34m,\u001b[0m \u001b[0mS\u001b[0m \u001b[0;34m=\u001b[0m \u001b[0mPCA_compression\u001b[0m\u001b[0;34m(\u001b[0m\u001b[0mK\u001b[0m\u001b[0;34m,\u001b[0m \u001b[0mnumber_labels\u001b[0m\u001b[0;34m)\u001b[0m\u001b[0;34m\u001b[0m\u001b[0;34m\u001b[0m\u001b[0m\n\u001b[0m",
      "\u001b[0;32m<ipython-input-17-bafe8c35a20f>\u001b[0m in \u001b[0;36mPCA_compression\u001b[0;34m(K, number_labels)\u001b[0m\n\u001b[1;32m      4\u001b[0m \u001b[0;34m\u001b[0m\u001b[0m\n\u001b[1;32m      5\u001b[0m     \u001b[0mX_norm\u001b[0m\u001b[0;34m,\u001b[0m \u001b[0mmu\u001b[0m\u001b[0;34m,\u001b[0m \u001b[0msigma\u001b[0m \u001b[0;34m=\u001b[0m \u001b[0mMA2\u001b[0m\u001b[0;34m.\u001b[0m\u001b[0mfeatureNormalize\u001b[0m\u001b[0;34m(\u001b[0m\u001b[0mX\u001b[0m\u001b[0;34m)\u001b[0m\u001b[0;34m\u001b[0m\u001b[0;34m\u001b[0m\u001b[0m\n\u001b[0;32m----> 6\u001b[0;31m     \u001b[0mU\u001b[0m\u001b[0;34m,\u001b[0m \u001b[0mS\u001b[0m \u001b[0;34m=\u001b[0m \u001b[0mMA2\u001b[0m\u001b[0;34m.\u001b[0m\u001b[0mpca\u001b[0m\u001b[0;34m(\u001b[0m\u001b[0mX_norm\u001b[0m\u001b[0;34m)\u001b[0m\u001b[0;34m\u001b[0m\u001b[0;34m\u001b[0m\u001b[0m\n\u001b[0m\u001b[1;32m      7\u001b[0m     \u001b[0mX\u001b[0m \u001b[0;34m=\u001b[0m \u001b[0mMA2\u001b[0m\u001b[0;34m.\u001b[0m\u001b[0mprojectData\u001b[0m\u001b[0;34m(\u001b[0m\u001b[0mX_norm\u001b[0m\u001b[0;34m,\u001b[0m \u001b[0mU\u001b[0m\u001b[0;34m,\u001b[0m \u001b[0mK\u001b[0m\u001b[0;34m)\u001b[0m\u001b[0;34m\u001b[0m\u001b[0;34m\u001b[0m\u001b[0m\n\u001b[1;32m      8\u001b[0m \u001b[0;34m\u001b[0m\u001b[0m\n",
      "\u001b[0;32m~/Documents/MA2.py\u001b[0m in \u001b[0;36mpca\u001b[0;34m(X)\u001b[0m\n\u001b[1;32m     99\u001b[0m \u001b[0;34m\u001b[0m\u001b[0m\n\u001b[1;32m    100\u001b[0m     \u001b[0mSigma\u001b[0m \u001b[0;34m=\u001b[0m \u001b[0;34m(\u001b[0m\u001b[0mnp\u001b[0m\u001b[0;34m.\u001b[0m\u001b[0mdot\u001b[0m\u001b[0;34m(\u001b[0m\u001b[0mX\u001b[0m\u001b[0;34m.\u001b[0m\u001b[0mT\u001b[0m\u001b[0;34m,\u001b[0m \u001b[0mX\u001b[0m\u001b[0;34m)\u001b[0m\u001b[0;34m)\u001b[0m \u001b[0;34m/\u001b[0m \u001b[0mX\u001b[0m\u001b[0;34m.\u001b[0m\u001b[0mshape\u001b[0m\u001b[0;34m[\u001b[0m\u001b[0;36m0\u001b[0m\u001b[0;34m]\u001b[0m\u001b[0;34m\u001b[0m\u001b[0;34m\u001b[0m\u001b[0m\n\u001b[0;32m--> 101\u001b[0;31m     \u001b[0mU\u001b[0m\u001b[0;34m,\u001b[0m \u001b[0mS\u001b[0m\u001b[0;34m,\u001b[0m \u001b[0mV\u001b[0m \u001b[0;34m=\u001b[0m \u001b[0mnp\u001b[0m\u001b[0;34m.\u001b[0m\u001b[0mlinalg\u001b[0m\u001b[0;34m.\u001b[0m\u001b[0msvd\u001b[0m\u001b[0;34m(\u001b[0m\u001b[0mSigma\u001b[0m\u001b[0;34m)\u001b[0m\u001b[0;34m\u001b[0m\u001b[0;34m\u001b[0m\u001b[0m\n\u001b[0m\u001b[1;32m    102\u001b[0m \u001b[0;34m\u001b[0m\u001b[0m\n\u001b[1;32m    103\u001b[0m     \u001b[0;32mreturn\u001b[0m \u001b[0mU\u001b[0m\u001b[0;34m,\u001b[0m \u001b[0mS\u001b[0m\u001b[0;34m\u001b[0m\u001b[0;34m\u001b[0m\u001b[0m\n",
      "\u001b[0;32m<__array_function__ internals>\u001b[0m in \u001b[0;36msvd\u001b[0;34m(*args, **kwargs)\u001b[0m\n",
      "\u001b[0;32m~/anaconda3/lib/python3.7/site-packages/numpy/linalg/linalg.py\u001b[0m in \u001b[0;36msvd\u001b[0;34m(a, full_matrices, compute_uv, hermitian)\u001b[0m\n\u001b[1;32m   1659\u001b[0m \u001b[0;34m\u001b[0m\u001b[0m\n\u001b[1;32m   1660\u001b[0m         \u001b[0msignature\u001b[0m \u001b[0;34m=\u001b[0m \u001b[0;34m'D->DdD'\u001b[0m \u001b[0;32mif\u001b[0m \u001b[0misComplexType\u001b[0m\u001b[0;34m(\u001b[0m\u001b[0mt\u001b[0m\u001b[0;34m)\u001b[0m \u001b[0;32melse\u001b[0m \u001b[0;34m'd->ddd'\u001b[0m\u001b[0;34m\u001b[0m\u001b[0;34m\u001b[0m\u001b[0m\n\u001b[0;32m-> 1661\u001b[0;31m         \u001b[0mu\u001b[0m\u001b[0;34m,\u001b[0m \u001b[0ms\u001b[0m\u001b[0;34m,\u001b[0m \u001b[0mvh\u001b[0m \u001b[0;34m=\u001b[0m \u001b[0mgufunc\u001b[0m\u001b[0;34m(\u001b[0m\u001b[0ma\u001b[0m\u001b[0;34m,\u001b[0m \u001b[0msignature\u001b[0m\u001b[0;34m=\u001b[0m\u001b[0msignature\u001b[0m\u001b[0;34m,\u001b[0m \u001b[0mextobj\u001b[0m\u001b[0;34m=\u001b[0m\u001b[0mextobj\u001b[0m\u001b[0;34m)\u001b[0m\u001b[0;34m\u001b[0m\u001b[0;34m\u001b[0m\u001b[0m\n\u001b[0m\u001b[1;32m   1662\u001b[0m         \u001b[0mu\u001b[0m \u001b[0;34m=\u001b[0m \u001b[0mu\u001b[0m\u001b[0;34m.\u001b[0m\u001b[0mastype\u001b[0m\u001b[0;34m(\u001b[0m\u001b[0mresult_t\u001b[0m\u001b[0;34m,\u001b[0m \u001b[0mcopy\u001b[0m\u001b[0;34m=\u001b[0m\u001b[0;32mFalse\u001b[0m\u001b[0;34m)\u001b[0m\u001b[0;34m\u001b[0m\u001b[0;34m\u001b[0m\u001b[0m\n\u001b[1;32m   1663\u001b[0m         \u001b[0ms\u001b[0m \u001b[0;34m=\u001b[0m \u001b[0ms\u001b[0m\u001b[0;34m.\u001b[0m\u001b[0mastype\u001b[0m\u001b[0;34m(\u001b[0m\u001b[0m_realType\u001b[0m\u001b[0;34m(\u001b[0m\u001b[0mresult_t\u001b[0m\u001b[0;34m)\u001b[0m\u001b[0;34m,\u001b[0m \u001b[0mcopy\u001b[0m\u001b[0;34m=\u001b[0m\u001b[0;32mFalse\u001b[0m\u001b[0;34m)\u001b[0m\u001b[0;34m\u001b[0m\u001b[0;34m\u001b[0m\u001b[0m\n",
      "\u001b[0;31mMemoryError\u001b[0m: Unable to allocate 1.46 GiB for an array with shape (13983, 13983) and data type float64"
     ]
    }
   ],
   "source": [
    "K = 128    # I have chosen value of 128 as it gives high degree of accuracy perhaps way too much for this purpose :)\n",
    "\n",
    "number_labels = len(set(pd.read_csv(label_dir_celeba, delimiter= '\\t' )['smiling']))\n",
    "\n",
    "# Current Image size is set to (79, 59), this will need to change as required in file MA2.py (function: data_to_vector_MA2)\n",
    "\n",
    "X_train, X_test, Y_train, Y_test, X_val, Y_val, U, S = PCA_compression(K, number_labels)"
   ]
  },
  {
   "cell_type": "markdown",
   "metadata": {},
   "source": [
    "### 2. Setting up MLP with basic arguments"
   ]
  },
  {
   "cell_type": "code",
   "execution_count": 75,
   "metadata": {},
   "outputs": [],
   "source": [
    "# Number of hidden layers\n",
    "n_hidden_1 = 2048 # can change this number to optimize results\n",
    "n_hidden_2 = 2048 # can change this number to optimize results\n",
    "\n",
    "# Setting up learning rates and number of epochs for start\n",
    "learning_rate = 1e-5\n",
    "training_epochs = 200\n",
    "display_accuracy_step = 10\n",
    "\n",
    "weights, X, Y, biases, input_array = MA2.initialize_parameters(X_train, Y_train, n_hidden_1, n_hidden_2)\n",
    "\n",
    "logits = MA2.multilayer_perceptron(weights, biases, input_array)\n",
    "\n",
    "loss_op = tf.reduce_mean(tf.nn.softmax_cross_entropy_with_logits(logits = logits, labels = Y))\n",
    "\n",
    "optimizer = v1.train.AdamOptimizer(learning_rate).minimize(loss_op)"
   ]
  },
  {
   "cell_type": "markdown",
   "metadata": {},
   "source": [
    "#### 2.1 Running MLP model"
   ]
  },
  {
   "cell_type": "code",
   "execution_count": 76,
   "metadata": {
    "scrolled": true
   },
   "outputs": [
    {
     "name": "stdout",
     "output_type": "stream",
     "text": [
      "Train Accuracy: 1.0\n",
      "Test Accuracy: 1.0\n"
     ]
    },
    {
     "data": {
      "image/png": "[encoded data removed]",
      "text/plain": [
       "<Figure size 432x288 with 1 Axes>"
      ]
     },
     "metadata": {
      "needs_background": "light"
     },
     "output_type": "display_data"
    },
    {
     "name": "stdout",
     "output_type": "stream",
     "text": [
      " .. Model Finished ..\n"
     ]
    }
   ],
   "source": [
    "costs = []\n",
    "\n",
    "init_op = v1.global_variables_initializer() # initializing global parameter\n",
    "\n",
    "with v1.Session() as sess:\n",
    "\n",
    "    # run graph weights/biases initialization op\n",
    "    sess.run(init_op)\n",
    "\n",
    "    for epoch in range(training_epochs):\n",
    "\n",
    "        # running cost function (backprop)\n",
    "        _, cost = sess.run([optimizer, loss_op], feed_dict={X: X_train, Y: Y_train})\n",
    "        costs.append(cost)\n",
    "\n",
    "        # Plotting results\n",
    "        \n",
    "        if epoch % display_accuracy_step == 0:\n",
    "            predict = tf.nn.softmax(logits)  # Softmax\n",
    "            correct_prediction = tf.equal(tf.argmax(predict, 1), tf.argmax(Y, 1))\n",
    "            # on using argmax to predict accuracy on axis = 1\n",
    "            # calculate training accuracy\n",
    "            accuracy = tf.reduce_mean(tf.cast(correct_prediction, \"float\"))\n",
    "            train_accuracy = accuracy.eval({X: X_train, Y: Y_train})\n",
    "            val_accuracy = accuracy.eval({X: X_val, Y: Y_val})\n",
    "            test_accuracy = accuracy.eval({X: X_test, Y: Y_test})\n",
    "\n",
    "    # Plotting results\n",
    "    \n",
    "    print(\"Train Accuracy:\", train_accuracy)\n",
    "    print(\"Val Accuracy:\", val_accuracy)\n",
    "    print(\"Test Accuracy:\", test_accuracy)\n",
    "    plt.plot(np.squeeze(costs))\n",
    "    plt.ylabel('cost')\n",
    "    plt.xlabel('iterations (per tens)')\n",
    "    plt.title(\"Learning rate =\" + str(learning_rate))\n",
    "    plt.show()\n",
    "    \n",
    "    print (\" .. Model Finished ..\")"
   ]
  },
  {
   "cell_type": "code",
   "execution_count": 77,
   "metadata": {},
   "outputs": [
    {
     "data": {
      "text/plain": [
       "0.6979346"
      ]
     },
     "execution_count": 77,
     "metadata": {},
     "output_type": "execute_result"
    }
   ],
   "source": [
    "costs[0]"
   ]
  },
  {
   "cell_type": "markdown",
   "metadata": {},
   "source": [
    "### =============================================================="
   ]
  },
  {
   "cell_type": "markdown",
   "metadata": {},
   "source": [
    "# MB1 PCA & MLP for eye-color recognition : cartoon_set"
   ]
  },
  {
   "cell_type": "markdown",
   "metadata": {},
   "source": [
    "First stage of implementation of this algorithm is to find the correct set of Principal Component (eigenfaces) that describes the largest variations of the image. This can be changed by increasing K in this model. But due to the computational restrictions, I have used 128."
   ]
  },
  {
   "cell_type": "markdown",
   "metadata": {},
   "source": [
    "This algorithm is implemented in two steps across both datasets.\n",
    "(i) first we normalize the dataset by subtracting the mean of each features from the matrix.\n",
    "(ii)In this stage we can use normalized values to reduce the dimesnsion fo the dataset. Which allows learning algorithm with a smaller input size.\n",
    "\n",
    "In this Model I have used K = 128. The K here was derived using covariance matrix greater than 1. "
   ]
  },
  {
   "cell_type": "markdown",
   "metadata": {},
   "source": [
    "### 1. PCA compression function"
   ]
  },
  {
   "cell_type": "code",
   "execution_count": 23,
   "metadata": {},
   "outputs": [],
   "source": [
    "def PCA_compression(K, number_labels): # mention of K depending on the image resolution and criteria\n",
    "    \n",
    "    X, Y = MB1.data_to_vector_MB1 (asset_dir_cartoonset, number_labels)\n",
    "    \n",
    "    X_norm, mu, sigma = MB1.featureNormalize(X)\n",
    "    U, S = MB1.pca(X_norm)\n",
    "    X = MB1.projectData(X_norm, U, K)\n",
    "    \n",
    "    X_train, X_test, Y_train, Y_test, X_val, Y_val = MB1.split_data(X, Y)\n",
    "    print('Shape of compressed X_train:', X_train.shape)\n",
    "    print('Shape of compressed X_test:', X_test.shape)\n",
    "    print('Shape of Y_train:', Y_train.shape)\n",
    "    print('Shape of Y_test:', Y_test.shape)\n",
    "    print('Shape of X_val:', X_val.shape)\n",
    "    print('Shape of Y_val:', Y_val.shape)\n",
    "    \n",
    "    return X_train, X_test, Y_train, Y_test, X_val, Y_val, U, S"
   ]
  },
  {
   "cell_type": "markdown",
   "metadata": {},
   "source": [
    "#### 1.1 Compressing and loading compressed image data"
   ]
  },
  {
   "cell_type": "code",
   "execution_count": 25,
   "metadata": {
    "scrolled": false
   },
   "outputs": [
    {
     "name": "stdout",
     "output_type": "stream",
     "text": [
      "Shape of the labels : (10000, 5)\n",
      "Shape of the dataset : (10000, 19200)\n"
     ]
    },
    {
     "ename": "MemoryError",
     "evalue": "Unable to allocate 1.37 GiB for an array with shape (19200, 19200) and data type float32",
     "output_type": "error",
     "traceback": [
      "\u001b[0;31m---------------------------------------------------------------------------\u001b[0m",
      "\u001b[0;31mMemoryError\u001b[0m                               Traceback (most recent call last)",
      "\u001b[0;32m<ipython-input-25-3906774073ef>\u001b[0m in \u001b[0;36m<module>\u001b[0;34m\u001b[0m\n\u001b[1;32m      3\u001b[0m \u001b[0mnumber_labels\u001b[0m \u001b[0;34m=\u001b[0m \u001b[0mlen\u001b[0m\u001b[0;34m(\u001b[0m\u001b[0mset\u001b[0m\u001b[0;34m(\u001b[0m\u001b[0mpd\u001b[0m\u001b[0;34m.\u001b[0m\u001b[0mread_csv\u001b[0m\u001b[0;34m(\u001b[0m\u001b[0mlabel_dir_cartoonset\u001b[0m\u001b[0;34m,\u001b[0m \u001b[0mdelimiter\u001b[0m\u001b[0;34m=\u001b[0m \u001b[0;34m'\\t'\u001b[0m \u001b[0;34m)\u001b[0m\u001b[0;34m[\u001b[0m\u001b[0;34m'eye_color'\u001b[0m\u001b[0;34m]\u001b[0m\u001b[0;34m)\u001b[0m\u001b[0;34m)\u001b[0m\u001b[0;34m\u001b[0m\u001b[0;34m\u001b[0m\u001b[0m\n\u001b[1;32m      4\u001b[0m \u001b[0;34m\u001b[0m\u001b[0m\n\u001b[0;32m----> 5\u001b[0;31m \u001b[0mX_train\u001b[0m\u001b[0;34m,\u001b[0m \u001b[0mX_test\u001b[0m\u001b[0;34m,\u001b[0m \u001b[0mY_train\u001b[0m\u001b[0;34m,\u001b[0m \u001b[0mY_test\u001b[0m\u001b[0;34m,\u001b[0m \u001b[0mX_val\u001b[0m\u001b[0;34m,\u001b[0m \u001b[0mY_val\u001b[0m\u001b[0;34m,\u001b[0m \u001b[0mU\u001b[0m\u001b[0;34m,\u001b[0m \u001b[0mS\u001b[0m \u001b[0;34m=\u001b[0m \u001b[0mPCA_compression\u001b[0m\u001b[0;34m(\u001b[0m\u001b[0mK\u001b[0m\u001b[0;34m,\u001b[0m \u001b[0mnumber_labels\u001b[0m\u001b[0;34m)\u001b[0m\u001b[0;34m\u001b[0m\u001b[0;34m\u001b[0m\u001b[0m\n\u001b[0m",
      "\u001b[0;32m<ipython-input-23-7711aa8cd3c6>\u001b[0m in \u001b[0;36mPCA_compression\u001b[0;34m(K, number_labels)\u001b[0m\n\u001b[1;32m      4\u001b[0m \u001b[0;34m\u001b[0m\u001b[0m\n\u001b[1;32m      5\u001b[0m     \u001b[0mX_norm\u001b[0m\u001b[0;34m,\u001b[0m \u001b[0mmu\u001b[0m\u001b[0;34m,\u001b[0m \u001b[0msigma\u001b[0m \u001b[0;34m=\u001b[0m \u001b[0mMB1\u001b[0m\u001b[0;34m.\u001b[0m\u001b[0mfeatureNormalize\u001b[0m\u001b[0;34m(\u001b[0m\u001b[0mX\u001b[0m\u001b[0;34m)\u001b[0m\u001b[0;34m\u001b[0m\u001b[0;34m\u001b[0m\u001b[0m\n\u001b[0;32m----> 6\u001b[0;31m     \u001b[0mU\u001b[0m\u001b[0;34m,\u001b[0m \u001b[0mS\u001b[0m \u001b[0;34m=\u001b[0m \u001b[0mMB1\u001b[0m\u001b[0;34m.\u001b[0m\u001b[0mpca\u001b[0m\u001b[0;34m(\u001b[0m\u001b[0mX_norm\u001b[0m\u001b[0;34m)\u001b[0m\u001b[0;34m\u001b[0m\u001b[0;34m\u001b[0m\u001b[0m\n\u001b[0m\u001b[1;32m      7\u001b[0m     \u001b[0mX\u001b[0m \u001b[0;34m=\u001b[0m \u001b[0mMB1\u001b[0m\u001b[0;34m.\u001b[0m\u001b[0mprojectData\u001b[0m\u001b[0;34m(\u001b[0m\u001b[0mX_norm\u001b[0m\u001b[0;34m,\u001b[0m \u001b[0mU\u001b[0m\u001b[0;34m,\u001b[0m \u001b[0mK\u001b[0m\u001b[0;34m)\u001b[0m\u001b[0;34m\u001b[0m\u001b[0;34m\u001b[0m\u001b[0m\n\u001b[1;32m      8\u001b[0m \u001b[0;34m\u001b[0m\u001b[0m\n",
      "\u001b[0;32m~/Documents/MB1.py\u001b[0m in \u001b[0;36mpca\u001b[0;34m(X)\u001b[0m\n\u001b[1;32m     91\u001b[0m     \u001b[0mS\u001b[0m \u001b[0;34m=\u001b[0m \u001b[0mnp\u001b[0m\u001b[0;34m.\u001b[0m\u001b[0mzeros\u001b[0m\u001b[0;34m(\u001b[0m\u001b[0mn\u001b[0m\u001b[0;34m)\u001b[0m\u001b[0;34m\u001b[0m\u001b[0;34m\u001b[0m\u001b[0m\n\u001b[1;32m     92\u001b[0m \u001b[0;34m\u001b[0m\u001b[0m\n\u001b[0;32m---> 93\u001b[0;31m     \u001b[0mSigma\u001b[0m \u001b[0;34m=\u001b[0m \u001b[0;34m(\u001b[0m\u001b[0mnp\u001b[0m\u001b[0;34m.\u001b[0m\u001b[0mdot\u001b[0m\u001b[0;34m(\u001b[0m\u001b[0mX\u001b[0m\u001b[0;34m.\u001b[0m\u001b[0mT\u001b[0m\u001b[0;34m,\u001b[0m \u001b[0mX\u001b[0m\u001b[0;34m)\u001b[0m\u001b[0;34m)\u001b[0m \u001b[0;34m/\u001b[0m \u001b[0mX\u001b[0m\u001b[0;34m.\u001b[0m\u001b[0mshape\u001b[0m\u001b[0;34m[\u001b[0m\u001b[0;36m0\u001b[0m\u001b[0;34m]\u001b[0m\u001b[0;34m\u001b[0m\u001b[0;34m\u001b[0m\u001b[0m\n\u001b[0m\u001b[1;32m     94\u001b[0m     \u001b[0mU\u001b[0m\u001b[0;34m,\u001b[0m \u001b[0mS\u001b[0m\u001b[0;34m,\u001b[0m \u001b[0mV\u001b[0m \u001b[0;34m=\u001b[0m \u001b[0mnp\u001b[0m\u001b[0;34m.\u001b[0m\u001b[0mlinalg\u001b[0m\u001b[0;34m.\u001b[0m\u001b[0msvd\u001b[0m\u001b[0;34m(\u001b[0m\u001b[0mSigma\u001b[0m\u001b[0;34m)\u001b[0m\u001b[0;34m\u001b[0m\u001b[0;34m\u001b[0m\u001b[0m\n\u001b[1;32m     95\u001b[0m \u001b[0;34m\u001b[0m\u001b[0m\n",
      "\u001b[0;32m<__array_function__ internals>\u001b[0m in \u001b[0;36mdot\u001b[0;34m(*args, **kwargs)\u001b[0m\n",
      "\u001b[0;31mMemoryError\u001b[0m: Unable to allocate 1.37 GiB for an array with shape (19200, 19200) and data type float32"
     ]
    }
   ],
   "source": [
    "K = 128    # I have chosen value of 128 as it gives high degree of accuracy perhaps way too much for this purpose :)\n",
    "\n",
    "number_labels = len(set(pd.read_csv(label_dir_cartoonset, delimiter= '\\t' )['eye_color']))\n",
    "\n",
    "X_train, X_test, Y_train, Y_test, X_val, Y_val, U, S = PCA_compression(K, number_labels)"
   ]
  },
  {
   "cell_type": "markdown",
   "metadata": {},
   "source": [
    "### 2. Setting up MLP with basic arguments"
   ]
  },
  {
   "cell_type": "code",
   "execution_count": 20,
   "metadata": {},
   "outputs": [],
   "source": [
    "# Number of hidden layers\n",
    "n_hidden_1 = 2048 # can change this number to optimize results\n",
    "n_hidden_2 = 2048 # can change this number to optimize results\n",
    "\n",
    "# Setting up learning rates and number of epochs for start\n",
    "learning_rate = 1e-5\n",
    "training_epochs = 2000\n",
    "display_accuracy_step = 10\n",
    "\n",
    "weights, X, Y, biases, input_array = MB1.initialize_parameters(X_train, Y_train, n_hidden_1, n_hidden_2)\n",
    "\n",
    "logits = MB1.multilayer_perceptron(weights, biases, input_array)\n",
    "\n",
    "loss_op = tf.reduce_mean(tf.nn.softmax_cross_entropy_with_logits(logits = logits, labels = Y))\n",
    "\n",
    "optimizer = tf.train.GradientDescentOptimizer(learning_rate).minimize(loss_op)"
   ]
  },
  {
   "cell_type": "markdown",
   "metadata": {},
   "source": [
    "#### 2.1 Running MLP model"
   ]
  },
  {
   "cell_type": "code",
   "execution_count": 21,
   "metadata": {
    "scrolled": true
   },
   "outputs": [
    {
     "name": "stdout",
     "output_type": "stream",
     "text": [
      "Train Accuracy: 0.20333333\n",
      "Validation Accuracy: 0.182\n",
      "Test Accuracy: 0.1925\n"
     ]
    },
    {
     "data": {
      "image/png": "[encoded data removed]",
      "text/plain": [
       "<Figure size 432x288 with 1 Axes>"
      ]
     },
     "metadata": {
      "needs_background": "light"
     },
     "output_type": "display_data"
    },
    {
     "name": "stdout",
     "output_type": "stream",
     "text": [
      " .. Model Finished ..\n"
     ]
    }
   ],
   "source": [
    "costs = []\n",
    "validation = []\n",
    "\n",
    "init_op = v1.global_variables_initializer() # initializing global parameter\n",
    "\n",
    "with v1.Session() as sess:\n",
    "\n",
    "    # run graph weights/biases initialization op\n",
    "    sess.run(init_op)\n",
    "\n",
    "    for epoch in range(training_epochs):\n",
    "\n",
    "        # running cost function (backprop)\n",
    "        _, cost = sess.run([optimizer, loss_op], feed_dict={X: X_train, Y: Y_train})\n",
    "        costs.append(cost)\n",
    "\n",
    "        # Plotting results\n",
    "        \n",
    "        if epoch % display_accuracy_step == 0:\n",
    "            predict = tf.nn.softmax(logits)  # Softmax\n",
    "            correct_prediction = tf.equal(tf.argmax(predict, 1), tf.argmax(Y, 1))\n",
    "            # on using argmax to predict accuracy on axis = 1\n",
    "            # calculate training accuracy\n",
    "            accuracy = tf.reduce_mean(tf.cast(correct_prediction, \"float\"))\n",
    "            train_accuracy = accuracy.eval({X: X_train, Y: Y_train})\n",
    "            val_accuracy = accuracy.eval({X: X_val, Y: Y_val})\n",
    "            test_accuracy = accuracy.eval({X: X_test, Y: Y_test})\n",
    "\n",
    "    # Plotting results\n",
    "    \n",
    "    print(\"Train Accuracy:\", train_accuracy)\n",
    "    print(\"Validation Accuracy:\", val_accuracy)\n",
    "    print(\"Test Accuracy:\", test_accuracy)\n",
    "    plt.plot(np.squeeze(costs))\n",
    "    plt.plot(np.squeeze(validation))\n",
    "    plt.ylabel('cost')\n",
    "    plt.xlabel('iterations (per tens)')\n",
    "    plt.title(\"Learning rate =\" + str(learning_rate))\n",
    "    plt.show()\n",
    "    \n",
    "    print (\" .. Model Finished ..\")"
   ]
  },
  {
   "cell_type": "markdown",
   "metadata": {},
   "source": [
    "### =============================================================="
   ]
  },
  {
   "cell_type": "markdown",
   "metadata": {},
   "source": [
    "# MB2 K-mean & MLP for face-shape recognition : cartoon_set"
   ]
  },
  {
   "cell_type": "markdown",
   "metadata": {},
   "source": [
    "### 1. Running k-Means in order to compress data"
   ]
  },
  {
   "cell_type": "code",
   "execution_count": 19,
   "metadata": {},
   "outputs": [
    {
     "name": "stdout",
     "output_type": "stream",
     "text": [
      "Running ..\n",
      "Running ..\n",
      "Running ..\n",
      "Running ..\n",
      "Running ..\n",
      "Running ..\n",
      "Running ..\n",
      "Running ..\n",
      "Running ..\n",
      "Running ..\n",
      "Running ..\n",
      "Running ..\n",
      "Running ..\n",
      "Running ..\n",
      "Running ..\n",
      "Running ..\n",
      "Running ..\n",
      "Running ..\n",
      "Running ..\n",
      "Running ..\n",
      "Running ..\n",
      "Running ..\n",
      "Running ..\n",
      "Running ..\n",
      "Running ..\n",
      "Running ..\n",
      "Running ..\n",
      "Running ..\n",
      "Running ..\n",
      "Running ..\n",
      "Running ..\n",
      "Running ..\n",
      "Running ..\n",
      "Running ..\n",
      "Running ..\n",
      "Running ..\n",
      "Running ..\n",
      "Running ..\n",
      "Running ..\n",
      "Running ..\n",
      "Running ..\n",
      "Running ..\n",
      "Running ..\n",
      "Running ..\n",
      "Running ..\n",
      "Running ..\n",
      "Running ..\n",
      "Running ..\n",
      "Running ..\n",
      "Running ..\n",
      "Running ..\n",
      "Running ..\n",
      "Running ..\n",
      "Running ..\n",
      "Running ..\n",
      "Running ..\n",
      "Running ..\n",
      "Running ..\n",
      "Running ..\n",
      "Running ..\n",
      "Running ..\n",
      "Running ..\n",
      "Running ..\n",
      "Running ..\n",
      "Running ..\n",
      "Running ..\n",
      "Running ..\n",
      "Running ..\n",
      "Running ..\n",
      "Running ..\n",
      "Running ..\n",
      "Running ..\n",
      "Running ..\n",
      "Running ..\n",
      "Running ..\n",
      "Running ..\n",
      "Running ..\n",
      "Running ..\n",
      "Running ..\n",
      "Running ..\n",
      "Running ..\n",
      "Running ..\n",
      "Running ..\n",
      "Running ..\n",
      "Running ..\n",
      "Running ..\n",
      "Running ..\n",
      "Running ..\n",
      "Running ..\n",
      "Running ..\n",
      "Running ..\n",
      "Running ..\n",
      "Running ..\n",
      "Running ..\n",
      "Running ..\n",
      "Running ..\n",
      "Running ..\n",
      "Running ..\n",
      "Running ..\n",
      "Running ..\n",
      "Running ..\n",
      "Running ..\n",
      "Running ..\n",
      "Running ..\n",
      "Running ..\n",
      "Running ..\n",
      "Running ..\n",
      "Running ..\n",
      "Running ..\n",
      "Running ..\n",
      "Running ..\n",
      "Running ..\n",
      "Running ..\n",
      "Running ..\n",
      "Running ..\n",
      "Running ..\n",
      "Running ..\n",
      "Running ..\n",
      "Running ..\n",
      "Running ..\n",
      "Running ..\n",
      "Running ..\n",
      "Running ..\n",
      "Running ..\n",
      "Running ..\n",
      "Running ..\n",
      "Running ..\n",
      "Running ..\n",
      "Running ..\n",
      "Running ..\n",
      "Running ..\n",
      "Running ..\n",
      "Running ..\n",
      "Running ..\n",
      "Running ..\n",
      "Running ..\n",
      "Running ..\n",
      "Running ..\n",
      "Running ..\n",
      "Running ..\n",
      "Running ..\n",
      "Running ..\n",
      "Running ..\n",
      "Running ..\n",
      "Running ..\n",
      "Running ..\n",
      "Running ..\n",
      "Running ..\n",
      "Running ..\n",
      "Running ..\n",
      "Running ..\n",
      "Running ..\n",
      "Running ..\n",
      "Running ..\n",
      "Running ..\n",
      "Running ..\n",
      "Running ..\n",
      "Running ..\n",
      "Running ..\n",
      "Running ..\n",
      "Running ..\n",
      "Running ..\n",
      "Running ..\n",
      "Running ..\n",
      "Running ..\n",
      "Running ..\n",
      "Running ..\n",
      "Running ..\n",
      "Running ..\n",
      "Running ..\n",
      "Running ..\n",
      "Running ..\n",
      "Running ..\n",
      "Running ..\n",
      "Running ..\n",
      "Running ..\n",
      "Running ..\n",
      "Running ..\n",
      "Running ..\n",
      "Running ..\n",
      "Running ..\n",
      "Running ..\n",
      "Running ..\n",
      "Running ..\n",
      "Running ..\n",
      "Running ..\n",
      "Running ..\n",
      "Running ..\n",
      "Running ..\n",
      "Running ..\n",
      "Running ..\n",
      "Running ..\n",
      "Running ..\n",
      "Running ..\n",
      "Running ..\n",
      "Running ..\n",
      "Running ..\n",
      "Running ..\n",
      "Running ..\n",
      "Running ..\n",
      "Running ..\n",
      "Running ..\n",
      "Running ..\n",
      "Running ..\n",
      "Running ..\n",
      "Running ..\n",
      "Running ..\n",
      "Running ..\n",
      "Running ..\n",
      "Running ..\n",
      "Running ..\n",
      "Running ..\n",
      "Running ..\n",
      "Running ..\n",
      "Running ..\n",
      "Running ..\n",
      "Running ..\n",
      "Running ..\n",
      "Running ..\n",
      "Running ..\n",
      "Running ..\n",
      "Running ..\n",
      "Running ..\n",
      "Running ..\n",
      "Running ..\n",
      "Running ..\n",
      "Running ..\n",
      "Running ..\n",
      "Running ..\n",
      "Running ..\n",
      "Running ..\n",
      "Running ..\n",
      "Running ..\n",
      "Running ..\n",
      "Running ..\n",
      "Running ..\n",
      "Running ..\n",
      "Running ..\n",
      "Running ..\n",
      "Running ..\n",
      "Running ..\n",
      "Running ..\n",
      "Running ..\n",
      "Running ..\n",
      "Running ..\n",
      "Running ..\n",
      "Running ..\n",
      "Running ..\n",
      "Running ..\n",
      "Running ..\n",
      "Running ..\n",
      "Running ..\n",
      "Running ..\n",
      "Running ..\n",
      "Running ..\n",
      "Running ..\n",
      "Running ..\n",
      "Running ..\n",
      "Running ..\n",
      "Running ..\n",
      "Running ..\n",
      "Running ..\n",
      "Running ..\n",
      "Running ..\n",
      "Running ..\n",
      "Running ..\n",
      "Running ..\n",
      "Running ..\n",
      "Running ..\n",
      "Running ..\n",
      "Running ..\n",
      "Running ..\n",
      "Running ..\n",
      "Running ..\n",
      "Running ..\n",
      "Running ..\n",
      "Running ..\n",
      "Running ..\n",
      "Running ..\n",
      "Running ..\n",
      "Running ..\n",
      "Running ..\n",
      "Running ..\n",
      "Running ..\n",
      "Running ..\n",
      "Running ..\n",
      "Running ..\n",
      "Running ..\n",
      "Running ..\n",
      "Running ..\n",
      "Running ..\n",
      "Running ..\n",
      "Running ..\n",
      "Running ..\n",
      "Running ..\n",
      "Running ..\n",
      "Running ..\n",
      "Running ..\n",
      "Running ..\n",
      "Running ..\n",
      "Running ..\n",
      "Running ..\n",
      "Running ..\n",
      "Running ..\n",
      "Running ..\n",
      "Running ..\n",
      "Running ..\n",
      "Running ..\n",
      "Running ..\n",
      "Running ..\n",
      "Running ..\n",
      "Running ..\n",
      "Running ..\n",
      "Running ..\n",
      "Running ..\n",
      "Running ..\n",
      "Running ..\n",
      "Running ..\n",
      "Running ..\n",
      "Running ..\n",
      "Running ..\n",
      "Running ..\n",
      "Running ..\n",
      "Running ..\n",
      "Running ..\n",
      "Running ..\n",
      "Running ..\n",
      "Running ..\n",
      "Running ..\n",
      "Running ..\n",
      "Running ..\n",
      "Running ..\n",
      "Running ..\n",
      "Running ..\n",
      "Running ..\n",
      "Running ..\n",
      "Running ..\n",
      "Running ..\n",
      "Running ..\n",
      "Running ..\n",
      "Running ..\n",
      "Running ..\n",
      "Running ..\n",
      "Running ..\n",
      "Running ..\n",
      "Running ..\n",
      "Running ..\n",
      "Running ..\n",
      "Running ..\n",
      "Running ..\n",
      "Running ..\n",
      "Running ..\n",
      "Running ..\n",
      "Running ..\n",
      "Running ..\n",
      "Running ..\n",
      "Running ..\n",
      "Running ..\n",
      "Running ..\n",
      "Running ..\n",
      "Running ..\n",
      "Running ..\n",
      "Running ..\n",
      "Running ..\n",
      "Running ..\n",
      "Running ..\n",
      "Running ..\n",
      "Running ..\n",
      "Running ..\n",
      "Running ..\n",
      "Running ..\n",
      "Running ..\n",
      "Running ..\n",
      "Running ..\n",
      "Running ..\n",
      "Running ..\n",
      "Running ..\n",
      "Running ..\n",
      "Running ..\n",
      "Running ..\n",
      "Running ..\n",
      "Running ..\n",
      "Running ..\n",
      "Running ..\n",
      "Running ..\n",
      "Running ..\n",
      "Running ..\n",
      "Running ..\n",
      "Running ..\n",
      "Running ..\n",
      "Running ..\n",
      "Running ..\n",
      "Running ..\n",
      "Running ..\n",
      "Running ..\n",
      "Running ..\n",
      "Running ..\n",
      "Running ..\n",
      "Running ..\n",
      "Running ..\n",
      "Running ..\n",
      "Running ..\n",
      "Running ..\n",
      "Running ..\n",
      "Running ..\n",
      "Running ..\n",
      "Running ..\n",
      "Running ..\n",
      "Running ..\n",
      "Running ..\n",
      "Running ..\n",
      "Running ..\n",
      "Running ..\n",
      "Running ..\n",
      "Running ..\n",
      "Running ..\n",
      "Running ..\n",
      "Running ..\n",
      "Running ..\n",
      "Running ..\n",
      "Running ..\n",
      "Running ..\n",
      "Running ..\n",
      "Running ..\n",
      "Running ..\n",
      "Running ..\n",
      "Running ..\n",
      "Running ..\n",
      "Running ..\n",
      "Running ..\n",
      "Running ..\n",
      "Running ..\n",
      "Running ..\n",
      "Running ..\n",
      "Running ..\n",
      "Running ..\n",
      "Running ..\n",
      "Running ..\n",
      "Running ..\n",
      "Running ..\n",
      "Running ..\n",
      "Running ..\n",
      "Running ..\n",
      "Running ..\n",
      "Running ..\n",
      "Running ..\n",
      "Running ..\n",
      "Running ..\n",
      "Running ..\n",
      "Running ..\n",
      "Running ..\n",
      "Running ..\n",
      "Running ..\n",
      "Running ..\n",
      "Running ..\n",
      "Running ..\n",
      "Running ..\n",
      "Running ..\n",
      "Running ..\n",
      "Running ..\n",
      "Running ..\n",
      "Running ..\n",
      "Running ..\n",
      "Running ..\n",
      "Running ..\n",
      "Running ..\n",
      "Running ..\n",
      "Running ..\n",
      "Running ..\n",
      "Running ..\n",
      "Running ..\n",
      "Running ..\n",
      "Running ..\n",
      "Running ..\n",
      "Running ..\n",
      "Running ..\n",
      "Running ..\n",
      "Running ..\n",
      "Running ..\n",
      "Running ..\n",
      "Running ..\n",
      "Running ..\n",
      "Running ..\n",
      "Running ..\n",
      "Running ..\n",
      "Running ..\n",
      "Running ..\n",
      "Running ..\n",
      "Running ..\n",
      "Running ..\n",
      "Running ..\n",
      "Running ..\n",
      "Running ..\n",
      "Running ..\n",
      "Running ..\n",
      "Running ..\n",
      "Running ..\n",
      "Running ..\n",
      "Running ..\n",
      "Running ..\n",
      "Running ..\n",
      "Running ..\n",
      "Running ..\n",
      "Running ..\n",
      "Running ..\n",
      "Running ..\n",
      "Running ..\n",
      "Running ..\n",
      "Running ..\n",
      "Running ..\n",
      "Running ..\n",
      "Running ..\n",
      "Running ..\n",
      "Running ..\n",
      "Running ..\n",
      "Running ..\n",
      "Running ..\n",
      "Running ..\n",
      "Running ..\n",
      "Running ..\n",
      "Running ..\n",
      "Running ..\n",
      "Running ..\n",
      "Running ..\n",
      "Running ..\n",
      "Running ..\n",
      "Running ..\n",
      "Running ..\n",
      "Running ..\n",
      "Running ..\n",
      "Running ..\n",
      "Running ..\n",
      "Running ..\n",
      "Running ..\n",
      "Running ..\n",
      "Running ..\n",
      "Running ..\n",
      "Running ..\n",
      "Running ..\n",
      "Running ..\n",
      "Running ..\n",
      "Running ..\n",
      "Running ..\n",
      "Running ..\n",
      "Running ..\n",
      "Running ..\n",
      "Running ..\n",
      "Running ..\n",
      "Running ..\n",
      "Running ..\n",
      "Running ..\n",
      "Running ..\n",
      "Running ..\n",
      "Running ..\n",
      "Running ..\n",
      "Running ..\n",
      "Running ..\n",
      "Running ..\n",
      "Running ..\n",
      "Running ..\n",
      "Running ..\n",
      "Running ..\n",
      "Running ..\n",
      "Running ..\n",
      "Running ..\n",
      "Running ..\n",
      "Running ..\n",
      "Running ..\n",
      "Running ..\n",
      "Running ..\n",
      "Running ..\n",
      "Running ..\n",
      "Running ..\n",
      "Running ..\n",
      "Running ..\n",
      "Running ..\n",
      "Running ..\n",
      "Running ..\n",
      "Running ..\n",
      "Running ..\n",
      "Running ..\n",
      "Running ..\n",
      "Running ..\n",
      "Running ..\n",
      "Running ..\n",
      "Running ..\n",
      "Running ..\n",
      "Running ..\n",
      "Running ..\n",
      "Running ..\n",
      "Running ..\n",
      "Running ..\n",
      "Running ..\n",
      "Running ..\n",
      "Running ..\n",
      "Running ..\n",
      "Running ..\n",
      "Running ..\n",
      "Running ..\n",
      "Running ..\n",
      "Running ..\n",
      "Running ..\n",
      "Running ..\n",
      "Running ..\n",
      "Running ..\n",
      "Running ..\n",
      "Running ..\n",
      "Running ..\n",
      "Running ..\n",
      "Running ..\n",
      "Running ..\n",
      "Running ..\n",
      "Running ..\n",
      "Running ..\n",
      "Running ..\n",
      "Running ..\n",
      "Running ..\n",
      "Running ..\n",
      "Running ..\n",
      "Running ..\n",
      "Running ..\n",
      "Running ..\n",
      "Running ..\n",
      "Running ..\n",
      "Running ..\n",
      "Running ..\n",
      "Running ..\n",
      "Running ..\n",
      "Running ..\n",
      "Running ..\n",
      "Running ..\n",
      "Running ..\n",
      "Running ..\n",
      "Running ..\n",
      "Running ..\n",
      "Running ..\n",
      "Running ..\n",
      "Running ..\n",
      "Running ..\n",
      "Running ..\n",
      "Running ..\n",
      "Running ..\n",
      "Running ..\n",
      "Running ..\n",
      "Running ..\n",
      "Running ..\n",
      "Running ..\n",
      "Running ..\n",
      "Running ..\n",
      "Running ..\n",
      "Running ..\n",
      "Running ..\n",
      "Running ..\n",
      "Running ..\n",
      "Running ..\n",
      "Running ..\n",
      "Running ..\n",
      "Running ..\n",
      "Running ..\n",
      "Running ..\n",
      "Running ..\n",
      "Running ..\n",
      "Running ..\n",
      "Running ..\n",
      "Running ..\n",
      "Running ..\n",
      "Running ..\n",
      "Running ..\n",
      "Running ..\n",
      "Running ..\n",
      "Running ..\n",
      "Running ..\n",
      "Running ..\n",
      "Running ..\n",
      "Running ..\n",
      "Running ..\n",
      "Running ..\n",
      "Running ..\n",
      "Running ..\n",
      "Running ..\n",
      "Running ..\n",
      "Running ..\n",
      "Running ..\n",
      "Running ..\n",
      "Running ..\n",
      "Running ..\n",
      "Running ..\n",
      "Running ..\n",
      "Running ..\n",
      "Running ..\n",
      "Running ..\n",
      "Running ..\n",
      "Running ..\n",
      "Running ..\n",
      "Running ..\n",
      "Running ..\n",
      "Running ..\n",
      "Running ..\n",
      "Running ..\n",
      "Running ..\n",
      "Running ..\n",
      "Running ..\n",
      "Running ..\n",
      "Running ..\n",
      "Running ..\n",
      "Running ..\n",
      "Running ..\n",
      "Running ..\n",
      "Running ..\n",
      "Running ..\n",
      "Running ..\n",
      "Running ..\n",
      "Running ..\n",
      "Running ..\n",
      "Running ..\n",
      "Running ..\n",
      "Running ..\n",
      "Running ..\n",
      "Running ..\n",
      "Running ..\n",
      "Running ..\n",
      "Running ..\n",
      "Running ..\n",
      "Running ..\n",
      "Running ..\n",
      "Running ..\n",
      "Running ..\n",
      "Running ..\n",
      "Running ..\n",
      "Running ..\n",
      "Running ..\n",
      "Running ..\n",
      "Running ..\n",
      "Running ..\n",
      "Running ..\n",
      "Running ..\n",
      "Running ..\n",
      "Running ..\n",
      "Running ..\n",
      "Running ..\n",
      "Running ..\n",
      "Running ..\n",
      "Running ..\n",
      "Running ..\n",
      "Running ..\n",
      "Running ..\n",
      "Running ..\n",
      "Running ..\n",
      "Running ..\n",
      "Running ..\n",
      "Running ..\n",
      "Running ..\n",
      "Running ..\n",
      "Running ..\n",
      "Running ..\n",
      "Running ..\n",
      "Running ..\n",
      "Running ..\n",
      "Running ..\n",
      "Running ..\n",
      "Running ..\n",
      "Running ..\n",
      "Running ..\n",
      "Running ..\n",
      "Running ..\n",
      "Running ..\n",
      "Running ..\n",
      "Running ..\n",
      "Running ..\n",
      "Running ..\n",
      "Running ..\n",
      "Running ..\n",
      "Running ..\n",
      "Running ..\n",
      "Running ..\n",
      "Running ..\n",
      "Running ..\n",
      "Running ..\n",
      "Running ..\n",
      "Running ..\n",
      "Running ..\n",
      "Running ..\n",
      "Running ..\n",
      "Running ..\n",
      "Running ..\n",
      "Running ..\n",
      "Running ..\n",
      "Running ..\n",
      "Running ..\n",
      "Running ..\n",
      "Running ..\n",
      "Running ..\n",
      "Running ..\n",
      "Running ..\n",
      "Running ..\n",
      "Running ..\n",
      "Running ..\n",
      "Running ..\n",
      "Running ..\n",
      "Running ..\n",
      "Running ..\n",
      "Running ..\n",
      "Running ..\n",
      "Running ..\n",
      "Running ..\n",
      "Running ..\n",
      "Running ..\n",
      "Running ..\n",
      "Running ..\n",
      "Running ..\n",
      "Running ..\n",
      "Running ..\n",
      "Running ..\n",
      "Running ..\n",
      "Running ..\n",
      "Running ..\n",
      "Running ..\n",
      "Running ..\n",
      "Running ..\n",
      "Running ..\n",
      "Running ..\n",
      "Running ..\n",
      "Running ..\n",
      "Running ..\n",
      "Running ..\n",
      "Running ..\n",
      "Running ..\n",
      "Running ..\n",
      "Running ..\n",
      "Running ..\n",
      "Running ..\n",
      "Running ..\n",
      "Running ..\n",
      "Running ..\n",
      "Running ..\n",
      "Running ..\n",
      "Running ..\n",
      "Running ..\n",
      "Running ..\n",
      "Running ..\n",
      "Running ..\n",
      "Running ..\n",
      "Running ..\n",
      "Running ..\n",
      "Running ..\n",
      "Running ..\n",
      "Running ..\n",
      "Running ..\n",
      "Running ..\n",
      "Running ..\n",
      "Running ..\n",
      "Running ..\n",
      "Running ..\n",
      "Running ..\n",
      "Running ..\n",
      "Running ..\n",
      "Running ..\n",
      "Running ..\n",
      "Running ..\n",
      "Running ..\n",
      "Running ..\n",
      "Running ..\n",
      "Running ..\n",
      "Running ..\n",
      "Running ..\n",
      "Running ..\n",
      "Running ..\n",
      "Running ..\n",
      "Running ..\n",
      "Running ..\n",
      "Running ..\n",
      "Running ..\n",
      "Running ..\n",
      "Running ..\n",
      "Running ..\n",
      "Running ..\n",
      "Running ..\n",
      "Running ..\n",
      "Running ..\n",
      "Running ..\n",
      "Running ..\n",
      "Running ..\n",
      "Running ..\n",
      "Running ..\n",
      "Running ..\n",
      "Running ..\n",
      "Running ..\n",
      "Running ..\n",
      "Running ..\n",
      "Running ..\n",
      "Running ..\n",
      "Running ..\n",
      "Running ..\n",
      "Running ..\n",
      "Running ..\n",
      "Running ..\n",
      "Running ..\n",
      "Running ..\n",
      "Running ..\n",
      "Running ..\n",
      "Running ..\n",
      "Running ..\n",
      "Running ..\n",
      "Running ..\n",
      "Running ..\n",
      "Running ..\n",
      "Running ..\n",
      "Running ..\n",
      "Running ..\n",
      "Running ..\n",
      "Running ..\n",
      "Running ..\n",
      "Running ..\n",
      "Running ..\n",
      "Running ..\n",
      "Running ..\n",
      "Running ..\n",
      "Running ..\n",
      "Running ..\n",
      "Running ..\n",
      "Running ..\n",
      "Running ..\n",
      "Running ..\n",
      "Running ..\n",
      "Running ..\n",
      "Running ..\n",
      "Running ..\n",
      "Running ..\n",
      "Running ..\n",
      "Running ..\n",
      "Running ..\n",
      "Running ..\n",
      "Running ..\n",
      "Running ..\n",
      "Running ..\n",
      "Running ..\n",
      "Running ..\n",
      "Running ..\n",
      "Running ..\n",
      "Running ..\n",
      "Running ..\n",
      "Running ..\n",
      "Running ..\n",
      "Running ..\n",
      "Running ..\n",
      "Running ..\n",
      "Running ..\n",
      "Running ..\n",
      "Running ..\n",
      "Running ..\n",
      "Running ..\n",
      "Running ..\n",
      "Running ..\n",
      "Running ..\n",
      "Running ..\n",
      "Running ..\n",
      "Running ..\n",
      "Running ..\n",
      "Running ..\n",
      "Running ..\n",
      "Running ..\n",
      "Running ..\n",
      "Running ..\n",
      "Running ..\n",
      "Running ..\n",
      "Running ..\n",
      "Running ..\n",
      "Running ..\n",
      "Running ..\n",
      "Running ..\n",
      "Running ..\n",
      "Running ..\n",
      "Running ..\n",
      "Running ..\n",
      "Running ..\n",
      "Running ..\n",
      "Running ..\n",
      "Running ..\n",
      "Running ..\n",
      "Running ..\n",
      "Running ..\n",
      "Running ..\n",
      "Running ..\n",
      "Running ..\n",
      "Running ..\n",
      "Running ..\n",
      "Running ..\n",
      "Running ..\n",
      "Running ..\n",
      "Running ..\n",
      "Running ..\n",
      "Running ..\n",
      "Running ..\n",
      "Running ..\n",
      "Running ..\n",
      "Running ..\n",
      "Running ..\n",
      "Running ..\n",
      "Running ..\n",
      "Running ..\n"
     ]
    }
   ],
   "source": [
    "# specify criteria\n",
    "max_iters = 6     # Number of iterations, \n",
    "samples = 1000     # It is recommended to keep this number small but could go as large as the whole dataset. This calculation is computationally expensive process.\n",
    "K = 12            # Number of centroids. Not all the images high dimension data available to slice, hence as per my observation, a number between 10 and 50 is ideal for this dataset.\n",
    "target_size = (150,150)\n",
    "\n",
    "# Get the centroids of the sample images --------------------\n",
    "cartoon_centroid_array, cartoon_idx_array = MB2.get_centroids_cartoonMB2(asset_dir_cartoonset, image_dir_cartoonset, samples, K, max_iters, target_size)"
   ]
  },
  {
   "cell_type": "markdown",
   "metadata": {},
   "source": [
    "#### 1.1 Shapping and loading data to pass it on to MLP"
   ]
  },
  {
   "cell_type": "code",
   "execution_count": 21,
   "metadata": {},
   "outputs": [
    {
     "name": "stdout",
     "output_type": "stream",
     "text": [
      "Shape of the gender_labels : (1000, 5)\n",
      "Shape of features:  (1000, 12, 3)\n",
      "Shape of X_train: (800, 150, 150, 3)\n",
      "Shape of X_test: (200, 150, 150, 3)\n",
      "Shape of Y_train: (800, 5)\n",
      "Shape of Y_test: (200, 5)\n"
     ]
    }
   ],
   "source": [
    "# Getting shapped data for Model A1:\n",
    "\n",
    "number_labels = len(set(pd.read_csv(label_dir_cartoonset, delimiter= '\\t')['face_shape'])) # Male or Female\n",
    "\n",
    "X_train, X_test, Y_train, Y_test, features = MB2.get_data_MB2(number_labels)"
   ]
  },
  {
   "cell_type": "markdown",
   "metadata": {},
   "source": [
    "### 2. Setting up MLP with effective parameters"
   ]
  },
  {
   "cell_type": "code",
   "execution_count": 27,
   "metadata": {},
   "outputs": [],
   "source": [
    "# Number of hidden layers\n",
    "n_hidden_1 = 2048 # can change this number to optimize results\n",
    "n_hidden_2 = 2048 # can change this number to optimize results\n",
    "\n",
    "# Setting up learning rates and number of epochs for start\n",
    "learning_rate = 1e-5\n",
    "training_epochs = 1000\n",
    "display_accuracy_step = 10\n",
    "\n",
    "weights, X, Y, biases, input_array = MA1.initialize_parameters(X_train, Y_train, n_hidden_1, n_hidden_2)\n",
    "\n",
    "logits = MA1.multilayer_perceptron(weights, biases, input_array)\n",
    "\n",
    "loss_op = tf.reduce_mean(tf.nn.softmax_cross_entropy_with_logits(logits = logits, labels = Y))\n",
    "\n",
    "optimizer = v1.train.AdamOptimizer(learning_rate).minimize(loss_op)"
   ]
  },
  {
   "cell_type": "markdown",
   "metadata": {},
   "source": [
    "#### 2.1  Running MLP model"
   ]
  },
  {
   "cell_type": "code",
   "execution_count": 28,
   "metadata": {
    "scrolled": true
   },
   "outputs": [
    {
     "name": "stdout",
     "output_type": "stream",
     "text": [
      "Train Accuracy: 0.235\n",
      "Test Accuracy: 0.2\n"
     ]
    },
    {
     "data": {
      "image/png": "[encoded data removed]",
      "text/plain": [
       "<Figure size 432x288 with 1 Axes>"
      ]
     },
     "metadata": {
      "needs_background": "light"
     },
     "output_type": "display_data"
    },
    {
     "name": "stdout",
     "output_type": "stream",
     "text": [
      " .. Model Finished ..\n"
     ]
    }
   ],
   "source": [
    "costs = []\n",
    "\n",
    "init_op = v1.global_variables_initializer() # initializing global parameter\n",
    "\n",
    "with v1.Session() as sess:\n",
    "\n",
    "    # run graph weights/biases initialization op\n",
    "    sess.run(init_op) \n",
    "\n",
    "    for epoch in range(training_epochs):\n",
    "\n",
    "        # running cost function (backprop)\n",
    "        _, cost = sess.run([optimizer, loss_op], feed_dict={X: X_train, Y: Y_train})\n",
    "        costs.append(cost)\n",
    "\n",
    "        # Plotting results\n",
    "        \n",
    "        if epoch % display_accuracy_step == 0:\n",
    "            predict = tf.nn.softmax(logits)  # Softmax\n",
    "            correct_prediction = tf.equal(tf.argmax(predict, 1), tf.argmax(Y, 1))\n",
    "            # on using argmax to predict accuracy on axis = 1\n",
    "            # calculate training accuracy\n",
    "            accuracy = tf.reduce_mean(tf.cast(correct_prediction, \"float\"))\n",
    "            train_accuracy = accuracy.eval({X: X_train, Y: Y_train})\n",
    "            test_accuracy = accuracy.eval({X: X_test, Y: Y_test})\n",
    "\n",
    "    # Plotting results\n",
    "    \n",
    "    print(\"Train Accuracy:\", train_accuracy)\n",
    "    print(\"Test Accuracy:\", test_accuracy)\n",
    "    plt.plot(np.squeeze(costs))\n",
    "    plt.ylabel('cost')\n",
    "    plt.xlabel('iterations (per tens)')\n",
    "    plt.title(\"Learning rate =\" + str(learning_rate))\n",
    "    plt.show()\n",
    "    \n",
    "    print (\" .. Model Finished ..\")"
   ]
  },
  {
   "cell_type": "code",
   "execution_count": 29,
   "metadata": {},
   "outputs": [
    {
     "data": {
      "text/plain": [
       "1.6222726"
      ]
     },
     "execution_count": 29,
     "metadata": {},
     "output_type": "execute_result"
    }
   ],
   "source": [
    "costs[0]"
   ]
  },
  {
   "cell_type": "code",
   "execution_count": 30,
   "metadata": {},
   "outputs": [
    {
     "data": {
      "text/plain": [
       "1.6019281"
      ]
     },
     "execution_count": 30,
     "metadata": {},
     "output_type": "execute_result"
    }
   ],
   "source": [
    "costs [-1]"
   ]
  },
  {
   "cell_type": "code",
   "execution_count": null,
   "metadata": {},
   "outputs": [],
   "source": []
  }
 ],
 "metadata": {
  "kernelspec": {
   "display_name": "Python 3",
   "language": "python",
   "name": "python3"
  },
  "language_info": {
   "codemirror_mode": {
    "name": "ipython",
    "version": 3
   },
   "file_extension": ".py",
   "mimetype": "text/x-python",
   "name": "python",
   "nbconvert_exporter": "python",
   "pygments_lexer": "ipython3",
   "version": "3.8.5"
  }
 },
 "nbformat": 4,
 "nbformat_minor": 4
}
